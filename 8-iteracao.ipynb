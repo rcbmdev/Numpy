{
 "cells": [
  {
   "cell_type": "code",
   "execution_count": 1,
   "metadata": {},
   "outputs": [],
   "source": [
    "import numpy as np"
   ]
  },
  {
   "cell_type": "code",
   "execution_count": 2,
   "metadata": {},
   "outputs": [
    {
     "data": {
      "text/plain": [
       "array([[1, 2, 3],\n",
       "       [4, 5, 6],\n",
       "       [7, 8, 9]])"
      ]
     },
     "execution_count": 2,
     "metadata": {},
     "output_type": "execute_result"
    }
   ],
   "source": [
    "array = np.array([[1, 2, 3],\n",
    "                  [4, 5, 6],\n",
    "                  [7, 8, 9]])\n",
    "array"
   ]
  },
  {
   "cell_type": "code",
   "execution_count": 5,
   "metadata": {},
   "outputs": [
    {
     "name": "stdout",
     "output_type": "stream",
     "text": [
      "1 2 3 4 5 6 7 8 9 "
     ]
    }
   ],
   "source": [
    "#1-Iteração Simples usando loop for\n",
    "for linha in array:\n",
    "    for valor in linha:\n",
    "        print(valor, end=' ')"
   ]
  },
  {
   "cell_type": "code",
   "execution_count": 6,
   "metadata": {},
   "outputs": [
    {
     "name": "stdout",
     "output_type": "stream",
     "text": [
      "1 2 3 4 5 6 7 8 9 "
     ]
    }
   ],
   "source": [
    "#2-USando o np.nditer para uma iteração mais eficiente\n",
    "for valor in np.nditer(array):\n",
    "    print(valor, end=' ')"
   ]
  },
  {
   "cell_type": "code",
   "execution_count": 7,
   "metadata": {},
   "outputs": [
    {
     "name": "stdout",
     "output_type": "stream",
     "text": [
      "6 7 8 9 "
     ]
    }
   ],
   "source": [
    "#3-Iteração com Condição\n",
    "for valor in np.nditer(array):\n",
    "    if valor > 5:\n",
    "        print(valor, end=' ')"
   ]
  },
  {
   "cell_type": "code",
   "execution_count": 8,
   "metadata": {},
   "outputs": [
    {
     "name": "stdout",
     "output_type": "stream",
     "text": [
      "Elemento na posição (0, 0): 1\n",
      "Elemento na posição (0, 1): 2\n",
      "Elemento na posição (0, 2): 3\n",
      "Elemento na posição (1, 0): 4\n",
      "Elemento na posição (1, 1): 5\n",
      "Elemento na posição (1, 2): 6\n",
      "Elemento na posição (2, 0): 7\n",
      "Elemento na posição (2, 1): 8\n",
      "Elemento na posição (2, 2): 9\n"
     ]
    }
   ],
   "source": [
    "#4-Iteração com Índices\n",
    "for i in range(array.shape[0]): # Iterando sobre as linhas\n",
    "    for j in range(array.shape[1]):\n",
    "        print(f\"Elemento na posição ({i}, {j}): {array[i, j]}\")"
   ]
  }
 ],
 "metadata": {
  "kernelspec": {
   "display_name": "Python 3",
   "language": "python",
   "name": "python3"
  },
  "language_info": {
   "codemirror_mode": {
    "name": "ipython",
    "version": 3
   },
   "file_extension": ".py",
   "mimetype": "text/x-python",
   "name": "python",
   "nbconvert_exporter": "python",
   "pygments_lexer": "ipython3",
   "version": "3.11.5"
  }
 },
 "nbformat": 4,
 "nbformat_minor": 2
}
