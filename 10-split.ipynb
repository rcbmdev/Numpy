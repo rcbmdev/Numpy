{
 "cells": [
  {
   "cell_type": "code",
   "execution_count": 1,
   "metadata": {},
   "outputs": [],
   "source": [
    "import numpy as np"
   ]
  },
  {
   "cell_type": "code",
   "execution_count": 2,
   "metadata": {},
   "outputs": [
    {
     "data": {
      "text/plain": [
       "array([1, 2, 3, 4, 5, 6])"
      ]
     },
     "execution_count": 2,
     "metadata": {},
     "output_type": "execute_result"
    }
   ],
   "source": [
    "array = np.array([1, 2, 3, 4, 5, 6])\n",
    "array"
   ]
  },
  {
   "cell_type": "code",
   "execution_count": 3,
   "metadata": {},
   "outputs": [
    {
     "data": {
      "text/plain": [
       "[array([1, 2]), array([3, 4]), array([5, 6])]"
      ]
     },
     "execution_count": 3,
     "metadata": {},
     "output_type": "execute_result"
    }
   ],
   "source": [
    "arrays_divididos = np.split(array, 3)\n",
    "arrays_divididos"
   ]
  },
  {
   "cell_type": "code",
   "execution_count": 4,
   "metadata": {},
   "outputs": [
    {
     "name": "stdout",
     "output_type": "stream",
     "text": [
      "Parte 1-> [1 2]\n",
      "Parte 2-> [3 4]\n",
      "Parte 3-> [5 6]\n"
     ]
    }
   ],
   "source": [
    "for i, value in enumerate(arrays_divididos):\n",
    "    print(f\"Parte {i+1}-> {value}\")"
   ]
  },
  {
   "cell_type": "code",
   "execution_count": 6,
   "metadata": {},
   "outputs": [
    {
     "data": {
      "text/plain": [
       "array([22, 21, 23, 25, 20, 19, 21, 24, 26, 27, 25, 22, 20, 18, 19, 20, 21,\n",
       "       22, 23, 24, 25, 26, 27, 28, 29, 30, 29, 28, 27, 26, 25, 24])"
      ]
     },
     "execution_count": 6,
     "metadata": {},
     "output_type": "execute_result"
    }
   ],
   "source": [
    "#Criando um array 1D com temperaturas diárias de um mês (30 dias)\n",
    "temperaturas = np.array([22, 21, 23, 25, 20, 19, 21,\n",
    "                        24, 26, 27, 25, 22,\n",
    "                        20, 18, 19, 20, 21,\n",
    "                        22, 23, 24, 25, 26,\n",
    "                        27, 28, 29, 30, 29,\n",
    "                        28, 27, 26, 25, 24])\n",
    "temperaturas"
   ]
  },
  {
   "cell_type": "code",
   "execution_count": 7,
   "metadata": {},
   "outputs": [
    {
     "data": {
      "text/plain": [
       "[array([22, 21, 23, 25, 20, 19, 21, 24]),\n",
       " array([26, 27, 25, 22, 20, 18, 19, 20]),\n",
       " array([21, 22, 23, 24, 25, 26, 27, 28]),\n",
       " array([29, 30, 29, 28, 27, 26, 25, 24])]"
      ]
     },
     "execution_count": 7,
     "metadata": {},
     "output_type": "execute_result"
    }
   ],
   "source": [
    "#Dividindo as temperaturas em 4 semanas\n",
    "semanas = np.split(temperaturas, 4)\n",
    "semanas"
   ]
  },
  {
   "cell_type": "code",
   "execution_count": 8,
   "metadata": {},
   "outputs": [
    {
     "name": "stdout",
     "output_type": "stream",
     "text": [
      "Semana 1: [22 21 23 25 20 19 21 24]\n",
      "Semana 2: [26 27 25 22 20 18 19 20]\n",
      "Semana 3: [21 22 23 24 25 26 27 28]\n",
      "Semana 4: [29 30 29 28 27 26 25 24]\n"
     ]
    }
   ],
   "source": [
    "for i, value in enumerate(semanas):\n",
    "    print(f\"Semana {i+1}: {value}\")"
   ]
  },
  {
   "cell_type": "code",
   "execution_count": 10,
   "metadata": {},
   "outputs": [
    {
     "data": {
      "text/plain": [
       "[21.875, 22.125, 24.5, 27.25]"
      ]
     },
     "execution_count": 10,
     "metadata": {},
     "output_type": "execute_result"
    }
   ],
   "source": [
    "medias_semanas = [np.mean(semana) for semana in semanas]\n",
    "medias_semanas"
   ]
  },
  {
   "cell_type": "code",
   "execution_count": 11,
   "metadata": {},
   "outputs": [
    {
     "name": "stdout",
     "output_type": "stream",
     "text": [
      "Média da Semana 1: 21.88ºC\n",
      "Média da Semana 2: 22.12ºC\n",
      "Média da Semana 3: 24.50ºC\n",
      "Média da Semana 4: 27.25ºC\n"
     ]
    }
   ],
   "source": [
    "for i, value in enumerate(medias_semanas):\n",
    "    print(f\"Média da Semana {i+1}: {value:.2f}ºC\")"
   ]
  }
 ],
 "metadata": {
  "kernelspec": {
   "display_name": "Python 3",
   "language": "python",
   "name": "python3"
  },
  "language_info": {
   "codemirror_mode": {
    "name": "ipython",
    "version": 3
   },
   "file_extension": ".py",
   "mimetype": "text/x-python",
   "name": "python",
   "nbconvert_exporter": "python",
   "pygments_lexer": "ipython3",
   "version": "3.11.5"
  }
 },
 "nbformat": 4,
 "nbformat_minor": 2
}
